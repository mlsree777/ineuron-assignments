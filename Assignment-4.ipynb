{
 "cells": [
  {
   "cell_type": "code",
   "execution_count": 61,
   "metadata": {},
   "outputs": [],
   "source": [
    "def getInputFromUser(msg):\n",
    "    ip = None\n",
    "    try:\n",
    "        ip = round(float(input(msg)), 3)\n",
    "    except:\n",
    "        try:\n",
    "            ip = round(float(input(\"Please enter only integer or float, \" + msg)), 3)\n",
    "        except:\n",
    "            print(\"User entered non integer, try again later!!!\")\n",
    "            raise TypeError(\"Could not convert to float, Only Integers or Floats are allowed\")\n",
    "    return ip\n",
    "\n",
    "class Parent:\n",
    "    def __init__(self):\n",
    "        self.a = getInputFromUser(\"Enter side a:\")\n",
    "        self.b = getInputFromUser(\"Enter side b:\")\n",
    "        self.c = getInputFromUser(\"Enter side c:\")\n",
    "    def __str__(self):\n",
    "        return \"side a:{:.3f} side b:{:.3f}, side c:{:.3f}\".format(self.a, self.b, self.c)\n"
   ]
  },
  {
   "cell_type": "code",
   "execution_count": 62,
   "metadata": {},
   "outputs": [],
   "source": [
    "class Child(Parent):\n",
    "    def __init__(self, *args):\n",
    "        super(Child, self).__init__(*args)\n",
    "    def __str__(self):\n",
    "        return super(Child, self).__str__() + \" Child \"\n",
    "    def calculateArea(self):\n",
    "        s = (self.a + self.b + self.c)/2\n",
    "        area = ( s*(s-self.a)*(s-self.b)*(s-self.c)) ** 0.5\n",
    "        print(\"Area of traingle with sides a:{}, b:{}, c:{} is {}\".format(self.a, self.b, self.c, area));\n",
    "        return area"
   ]
  },
  {
   "cell_type": "code",
   "execution_count": 63,
   "metadata": {},
   "outputs": [
    {
     "name": "stdout",
     "output_type": "stream",
     "text": [
      "Enter side a:23\n",
      "Enter side b:45\n",
      "Enter side c:67\n",
      "side a:23.000 side b:45.000, side c:67.000 Child \n",
      "Area of traingle with sides a:23.0, b:45.0, c:67.0 is 183.82651468164215\n"
     ]
    },
    {
     "data": {
      "text/plain": [
       "183.82651468164215"
      ]
     },
     "execution_count": 63,
     "metadata": {},
     "output_type": "execute_result"
    }
   ],
   "source": [
    "c = Child()\n",
    "print(c)\n",
    "c.calculateArea()"
   ]
  },
  {
   "cell_type": "markdown",
   "metadata": {},
   "source": [
    "#### Question 1.2\n",
    "Write a function filter_long_words() that takes a list of words and an integer n and returns\n",
    "the list of words that are longer than n\n"
   ]
  },
  {
   "cell_type": "code",
   "execution_count": 64,
   "metadata": {},
   "outputs": [
    {
     "name": "stdout",
     "output_type": "stream",
     "text": [
      "length of Barack Obama is : 12\n",
      "length of Joe Biden is : 9\n",
      "length of Kamala Harris is : 13\n",
      "length of Nancy pelosi is : 12\n",
      "length of Sr Donald Trump is : 15\n"
     ]
    }
   ],
   "source": [
    "list_words = ['Barack Obama', 'Joe Biden', 'Kamala Harris', 'Nancy pelosi', 'Sr Donald Trump']\n",
    "for word in list_words:\n",
    "    print(\"length of {} is : {}\".format(word, len(word)))"
   ]
  },
  {
   "cell_type": "code",
   "execution_count": 44,
   "metadata": {},
   "outputs": [
    {
     "data": {
      "text/plain": [
       "['Barack Obama', 'Kamala Harris', 'Nancy pelosi', 'Sr Donald Trump']"
      ]
     },
     "execution_count": 44,
     "metadata": {},
     "output_type": "execute_result"
    }
   ],
   "source": [
    "def filter_long_words(list_words, n):\n",
    "    return list(filter(lambda word: len(word) > n, list_words))\n",
    "\n",
    "filter_long_words(list_words, 9)"
   ]
  },
  {
   "cell_type": "markdown",
   "metadata": {},
   "source": [
    "#### Question 2.1\n",
    "Write a Python program using function concept that maps list of words into a list of integers\n",
    "representing the lengths of the corresponding words."
   ]
  },
  {
   "cell_type": "code",
   "execution_count": 45,
   "metadata": {},
   "outputs": [
    {
     "data": {
      "text/plain": [
       "[12, 9, 13, 12, 15]"
      ]
     },
     "execution_count": 45,
     "metadata": {},
     "output_type": "execute_result"
    }
   ],
   "source": [
    "def mapListOfWords(list_words):\n",
    "    return list(map(lambda word: len(word), list_words))\n",
    "mapListOfWords(list_words)"
   ]
  },
  {
   "cell_type": "markdown",
   "metadata": {},
   "source": [
    "#### Question 2.2\n",
    "Write a Python function which takes a character (i.e. a string of length 1) and returns True if\n",
    "it is a vowel, False otherwise"
   ]
  },
  {
   "cell_type": "code",
   "execution_count": 54,
   "metadata": {},
   "outputs": [
    {
     "name": "stdout",
     "output_type": "stream",
     "text": [
      "isVowel(s) : False\n",
      "isVowel(o) : True\n",
      "isVowel(4) : False\n",
      "isVowel(e) : True\n"
     ]
    }
   ],
   "source": [
    "def isVowel(c):\n",
    "    return c in ['a', 'e','i','o','u']\n",
    "print(\"isVowel({}) : {}\".format('s', isVowel('s')))\n",
    "print(\"isVowel({}) : {}\".format('o', isVowel('o')))\n",
    "print(\"isVowel({}) : {}\".format('4', isVowel('4')))\n",
    "print(\"isVowel({}) : {}\".format('e', isVowel('e')))"
   ]
  }
 ],
 "metadata": {
  "kernelspec": {
   "display_name": "Python 3",
   "language": "python",
   "name": "python3"
  },
  "language_info": {
   "codemirror_mode": {
    "name": "ipython",
    "version": 3
   },
   "file_extension": ".py",
   "mimetype": "text/x-python",
   "name": "python",
   "nbconvert_exporter": "python",
   "pygments_lexer": "ipython3",
   "version": "3.8.3"
  }
 },
 "nbformat": 4,
 "nbformat_minor": 4
}
