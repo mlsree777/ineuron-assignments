{
 "cells": [
  {
   "cell_type": "code",
   "execution_count": 160,
   "metadata": {},
   "outputs": [],
   "source": [
    "import numpy as np"
   ]
  },
  {
   "cell_type": "markdown",
   "metadata": {},
   "source": [
    "#### Question\n"
   ]
  },
  {
   "cell_type": "code",
   "execution_count": 163,
   "metadata": {},
   "outputs": [
    {
     "name": "stdout",
     "output_type": "stream",
     "text": [
      "Theophile Vandermonde, No of columns:7, increasing:True, input array:[1 2 3 5]\n",
      "********************************************************************************\n",
      "[[    1     1     1     1     1     1     1]\n",
      " [    1     2     4     8    16    32    64]\n",
      " [    1     3     9    27    81   243   729]\n",
      " [    1     5    25   125   625  3125 15625]] \n",
      "\n",
      "Theophile Vandermonde, No of columns:4, increasing:False, input array:[1 2 3 5]\n",
      "********************************************************************************\n",
      "[[  1   1   1   1]\n",
      " [  8   4   2   1]\n",
      " [ 27   9   3   1]\n",
      " [125  25   5   1]]\n"
     ]
    }
   ],
   "source": [
    "def vendermodePolyFill(arr, n, increasing=False):\n",
    "    print(\"Theophile Vandermonde, No of columns:{}, increasing:{}, input array:{}\".format(n, increasing, arr), \"\\n\", \"*\"*80, sep=\"\")\n",
    "    new_array = np.zeros((arr.shape[0], n), dtype=arr.dtype.str)\n",
    "    for i in range(n):\n",
    "        elemWisePower = (n-i-1)\n",
    "        index = elemWisePower if increasing else i\n",
    "        ithOutputCol = arr ** elemWisePower\n",
    "        new_array[:, index] = ithOutputCol\n",
    "        #print(\"Element Wise Power: {}, {}th output col :{}\".format(elemWisePower, i, ithOutputCol))\n",
    "    return new_array\n",
    "\n",
    "print(vendermodePolyFill(x, 7, True), \"\\n\")\n",
    "print(vendermodePolyFill(x, 4, False))"
   ]
  },
  {
   "cell_type": "markdown",
   "metadata": {},
   "source": [
    "#### Question \n",
    "Write a function to find moving average in an array over a window:\n",
    "Test it over [3, 5, 7, 2, 8, 10, 11, 65, 72, 81, 99, 100, 150] and window of 3."
   ]
  },
  {
   "cell_type": "code",
   "execution_count": 168,
   "metadata": {},
   "outputs": [
    {
     "name": "stdout",
     "output_type": "stream",
     "text": [
      "Moving average for the array: [  3   5   7   2   8  10  11  65  72  81  99 100 150] with the window:3 \n",
      "*****************************************************************************************************\n",
      "start:0 end:3, items:[3 5 7], average:5.0\n",
      "start:1 end:4, items:[5 7 2], average:4.666666666666667\n",
      "start:2 end:5, items:[7 2 8], average:5.666666666666667\n",
      "start:3 end:6, items:[ 2  8 10], average:6.666666666666667\n",
      "start:4 end:7, items:[ 8 10 11], average:9.666666666666666\n",
      "start:5 end:8, items:[10 11 65], average:28.666666666666668\n",
      "start:6 end:9, items:[11 65 72], average:49.333333333333336\n",
      "start:7 end:10, items:[65 72 81], average:72.66666666666667\n",
      "start:8 end:11, items:[72 81 99], average:84.0\n",
      "start:9 end:12, items:[ 81  99 100], average:93.33333333333333\n",
      "start:10 end:13, items:[ 99 100 150], average:116.33333333333333\n"
     ]
    },
    {
     "data": {
      "text/plain": [
       "array([  5.        ,   4.66666667,   5.66666667,   6.66666667,\n",
       "         9.66666667,  28.66666667,  49.33333333,  72.66666667,\n",
       "        84.        ,  93.33333333, 116.33333333])"
      ]
     },
     "execution_count": 168,
     "metadata": {},
     "output_type": "execute_result"
    }
   ],
   "source": [
    "def movingAverage(arr, k):\n",
    "    print(\"Moving average for the array: {} with the window:{} \".format(arr, k), '\\n', '*'*101, sep=\"\")\n",
    "    res = np.array([])\n",
    "    size =arr.size\n",
    "    seq = size-k+1\n",
    "    for start in range(seq):\n",
    "        end = start + k\n",
    "        slicedItems = arr[start:end]\n",
    "        movingAvgAtIndex = np.sum(slicedItems)/k\n",
    "        print(\"start:{} end:{}, items:{}, average:{}\".format(start, end, slicedItems, movingAvgAtIndex))\n",
    "        res = np.append(res, movingAvgAtIndex)\n",
    "    return res\n",
    "l = np.array([3, 5, 7, 2, 8, 10, 11, 65, 72, 81, 99, 100, 150])\n",
    "movingAverage(l, 3)"
   ]
  }
 ],
 "metadata": {
  "kernelspec": {
   "display_name": "Python 3",
   "language": "python",
   "name": "python3"
  },
  "language_info": {
   "codemirror_mode": {
    "name": "ipython",
    "version": 3
   },
   "file_extension": ".py",
   "mimetype": "text/x-python",
   "name": "python",
   "nbconvert_exporter": "python",
   "pygments_lexer": "ipython3",
   "version": "3.8.3"
  }
 },
 "nbformat": 4,
 "nbformat_minor": 4
}
