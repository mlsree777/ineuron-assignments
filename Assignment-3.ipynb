{
 "cells": [
  {
   "cell_type": "markdown",
   "metadata": {},
   "source": [
    "#### Question 1.1\n",
    "1.1 Write a Python Program to implement your own myreduce() function which works exactly\n",
    "like Python's built-in function reduce()"
   ]
  },
  {
   "cell_type": "code",
   "execution_count": 77,
   "metadata": {},
   "outputs": [],
   "source": [
    "from functools import reduce\n",
    "\n",
    "def myreduce_helper(itr, func, a, b):\n",
    "    result = func(a, b)\n",
    "    #print(\"a:{}, b:{}, result:{}\".format(a, b, result))\n",
    "    try:\n",
    "        b = next(itr)\n",
    "        result = myreduce_helper(itr, func, result, b)\n",
    "    except StopIteration:\n",
    "        pass\n",
    "    return result \n",
    "    \n",
    "def myreduce(func, seq):\n",
    "    if(len(seq) ==0):\n",
    "        raise Exception('reduce() of empty sequence with no initial value')\n",
    "    if(len(seq) == 1):\n",
    "        return seq[0]\n",
    "    \n",
    "    itr = iter(seq)\n",
    "    a = next(itr)\n",
    "    b = next(itr)\n",
    "    return myreduce_helper(itr, func, a, b)\n",
    "   "
   ]
  },
  {
   "cell_type": "code",
   "execution_count": 78,
   "metadata": {},
   "outputs": [
    {
     "name": "stdout",
     "output_type": "stream",
     "text": [
      "myreduce.result:362880\n",
      "Built-in reduce.result:362880\n"
     ]
    }
   ],
   "source": [
    "def reduceFunc(x, y):\n",
    "    return x * y\n",
    "l = list(range(1,10))\n",
    "print(\"myreduce.result:{}\".format(myreduce(reduceFunc, l)))\n",
    "print(\"Built-in reduce.result:{}\".format(reduce(reduceFunc, l)))"
   ]
  },
  {
   "cell_type": "markdown",
   "metadata": {},
   "source": [
    "#### Question 1.2\n",
    "1.2 Write a Python program to implement your own myfilter() function which works exactly\n",
    "like Python's built-in function filter()"
   ]
  },
  {
   "cell_type": "code",
   "execution_count": 73,
   "metadata": {},
   "outputs": [],
   "source": [
    "# myFilter return iterator because butil-in filter also does not return list directly hence returing iterator\n",
    "def myFilter(func, seq):\n",
    "    result = []\n",
    "    for i in seq:\n",
    "        if(func(i) == True):\n",
    "            result.append(i)\n",
    "    return iter(result)"
   ]
  },
  {
   "cell_type": "code",
   "execution_count": 74,
   "metadata": {},
   "outputs": [
    {
     "name": "stdout",
     "output_type": "stream",
     "text": [
      "myfilter.result:[1, 3, 5, 7, 9]\n",
      "Built_in filter.result:[1, 3, 5, 7, 9]\n"
     ]
    }
   ],
   "source": [
    "def filterFunc(x):\n",
    "    if x % 2 != 0:\n",
    "        return True\n",
    "\n",
    "l = list(range(1,10))\n",
    "print(\"myfilter.result:{}\".format(list(myFilter(filterFunc, l))))\n",
    "print(\"Built_in filter.result:{}\".format(list(filter(filterFunc, l))))\n"
   ]
  },
  {
   "cell_type": "markdown",
   "metadata": {},
   "source": [
    "#### Question 2\n",
    "Implement List comprehensions to produce the following lists.\n"
   ]
  },
  {
   "cell_type": "raw",
   "metadata": {},
   "source": [
    "['x', 'xx', 'xxx', 'xxxx', 'y', 'yy', 'yyy', 'yyyy', 'z', 'zz', 'zzz', 'zzzz']\n",
    "['x', 'y', 'z', 'xx', 'yy', 'zz', 'xxx', 'yyy', 'zzz', 'xxxx', 'yyyy', 'zzzz']\n",
    "[[2], [3], [4], [3], [4], [5], [4], [5], [6]] [[2, 3, 4, 5], [3, 4, 5, 6],\n",
    "[4, 5, 6, 7], [5, 6, 7, 8]]\n",
    "[(1, 1), (2, 1), (3, 1), (1, 2), (2, 2), (3, 2), (1, 3), (2, 3), (3, 3)]"
   ]
  },
  {
   "cell_type": "code",
   "execution_count": 131,
   "metadata": {},
   "outputs": [
    {
     "name": "stdout",
     "output_type": "stream",
     "text": [
      "['x', 'xx', 'xxx', 'xxxx', 'y', 'yy', 'yyy', 'yyyy', 'z', 'zz', 'zzz', 'zzzz']\n"
     ]
    }
   ],
   "source": [
    "l1 = ['x', 'y', 'z']\n",
    "print([ i*j for i in l1 for j in range(1,5)])"
   ]
  },
  {
   "cell_type": "code",
   "execution_count": 130,
   "metadata": {},
   "outputs": [
    {
     "name": "stdout",
     "output_type": "stream",
     "text": [
      "['x', 'y', 'z', 'xx', 'yy', 'zz', 'xxx', 'yyy', 'zzz', 'xxxx', 'yyyy', 'zzzz']\n"
     ]
    }
   ],
   "source": [
    "print([ j*i for j in range(1,5) for i in l1])"
   ]
  },
  {
   "cell_type": "code",
   "execution_count": 126,
   "metadata": {},
   "outputs": [
    {
     "data": {
      "text/plain": [
       "[[2], [3], [4], [3], [4], [5], [4], [5], [6]]"
      ]
     },
     "execution_count": 126,
     "metadata": {},
     "output_type": "execute_result"
    }
   ],
   "source": [
    "[ [n] for m in range(2,5) for n in range(m, m+3)]"
   ]
  },
  {
   "cell_type": "code",
   "execution_count": 127,
   "metadata": {},
   "outputs": [
    {
     "data": {
      "text/plain": [
       "[[2, 3, 4, 5], [3, 4, 5, 6], [4, 5, 6, 7], [5, 6, 7, 8]]"
      ]
     },
     "execution_count": 127,
     "metadata": {},
     "output_type": "execute_result"
    }
   ],
   "source": [
    "[[k for k in range(j, j+4)] for j in range(2, 6)]"
   ]
  },
  {
   "cell_type": "code",
   "execution_count": 129,
   "metadata": {},
   "outputs": [
    {
     "data": {
      "text/plain": [
       "[(1, 1), (2, 1), (3, 1), (1, 2), (2, 2), (3, 2), (1, 3), (2, 3), (3, 3)]"
      ]
     },
     "execution_count": 129,
     "metadata": {},
     "output_type": "execute_result"
    }
   ],
   "source": [
    "[(j,i) for i in range(1, 4) for j in range(1, 4)]"
   ]
  }
 ],
 "metadata": {
  "kernelspec": {
   "display_name": "Python 3",
   "language": "python",
   "name": "python3"
  },
  "language_info": {
   "codemirror_mode": {
    "name": "ipython",
    "version": 3
   },
   "file_extension": ".py",
   "mimetype": "text/x-python",
   "name": "python",
   "nbconvert_exporter": "python",
   "pygments_lexer": "ipython3",
   "version": "3.8.3"
  }
 },
 "nbformat": 4,
 "nbformat_minor": 4
}
